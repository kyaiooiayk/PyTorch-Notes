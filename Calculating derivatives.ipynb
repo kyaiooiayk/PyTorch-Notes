{
 "cells": [
  {
   "cell_type": "markdown",
   "id": "c209310e",
   "metadata": {},
   "source": [
    "# Introduction\n",
    "<hr style = \"border:2px solid black\" ></hr>"
   ]
  },
  {
   "cell_type": "markdown",
   "id": "b70b5a6b",
   "metadata": {},
   "source": [
    "<div class=\"alert alert-warning\">\n",
    "<font color=black>\n",
    "\n",
    "**What?** Calculating derivatives\n",
    "\n",
    "</font>\n",
    "</div>"
   ]
  },
  {
   "cell_type": "markdown",
   "id": "b145ddb0",
   "metadata": {},
   "source": [
    "# Import modules\n",
    "<hr style = \"border:2px solid black\" ></hr>"
   ]
  },
  {
   "cell_type": "code",
   "execution_count": 1,
   "id": "7941541c",
   "metadata": {
    "ExecuteTime": {
     "end_time": "2022-02-19T14:19:30.087799Z",
     "start_time": "2022-02-19T14:19:24.357781Z"
    }
   },
   "outputs": [],
   "source": [
    "import matplotlib.pyplot as plt\n",
    "import torch"
   ]
  },
  {
   "cell_type": "markdown",
   "id": "0ce13735",
   "metadata": {},
   "source": [
    "# Differentiation in Autograd\n",
    "<hr style = \"border:2px solid black\" ></hr>"
   ]
  },
  {
   "cell_type": "markdown",
   "id": "b27b8f03",
   "metadata": {},
   "source": [
    "<div class=\"alert alert-info\">\n",
    "<font color=black>\n",
    "\n",
    "- **Autograd** is an auto differentiation module in PyTorch and is used to calculate the derivatives and optimize the parameters in neural networks. \n",
    "- Let’s use a simple tensor and set the `requires_grad` parameter to true. This allows us to perform automatic differentiation and lets PyTorch evaluate the derivatives using the given value which, in this case, is 3.0.  \n",
    "\n",
    "</font>\n",
    "</div>"
   ]
  },
  {
   "cell_type": "code",
   "execution_count": 8,
   "id": "201bbc10",
   "metadata": {
    "ExecuteTime": {
     "end_time": "2022-02-19T14:25:27.791911Z",
     "start_time": "2022-02-19T14:25:27.787738Z"
    }
   },
   "outputs": [
    {
     "data": {
      "text/plain": [
       "tensor(3., requires_grad=True)"
      ]
     },
     "execution_count": 8,
     "metadata": {},
     "output_type": "execute_result"
    }
   ],
   "source": [
    "x = torch.tensor(3.0, requires_grad = True)\n",
    "x"
   ]
  },
  {
   "cell_type": "code",
   "execution_count": 9,
   "id": "3062eb41",
   "metadata": {
    "ExecuteTime": {
     "end_time": "2022-02-19T14:25:28.222087Z",
     "start_time": "2022-02-19T14:25:28.218837Z"
    }
   },
   "outputs": [
    {
     "data": {
      "text/plain": [
       "torch.Size([])"
      ]
     },
     "execution_count": 9,
     "metadata": {},
     "output_type": "execute_result"
    }
   ],
   "source": [
    "x.shape"
   ]
  },
  {
   "cell_type": "markdown",
   "id": "327d21fc",
   "metadata": {},
   "source": [
    "<div class=\"alert alert-info\">\n",
    "<font color=black>\n",
    "\n",
    "- We’ll use a simple equation `y=3x^2` as an example and take the derivative with respect to variable x. \n",
    "- We’ll apply a method `.backward()` on the variable y that forms **acyclic graph** storing the computation history, and evaluate the result with `.grad()` for the given value.  \n",
    "\n",
    "</font>\n",
    "</div>"
   ]
  },
  {
   "cell_type": "code",
   "execution_count": 10,
   "id": "3a8b608a",
   "metadata": {
    "ExecuteTime": {
     "end_time": "2022-02-19T14:25:29.400478Z",
     "start_time": "2022-02-19T14:25:29.395195Z"
    }
   },
   "outputs": [
    {
     "name": "stdout",
     "output_type": "stream",
     "text": [
      "Result of the equation is:  tensor(27., grad_fn=<MulBackward0>)\n",
      "Dervative dy/dx evaluate at x = 3 is:  tensor(18.)\n"
     ]
    }
   ],
   "source": [
    "y = 3 * x ** 2\n",
    "print(\"Result of the equation is: \", y)\n",
    "y.backward()\n",
    "print(\"Dervative dy/dx evaluate at x = 3 is: \", x.grad)"
   ]
  },
  {
   "cell_type": "markdown",
   "id": "80af41b3",
   "metadata": {},
   "source": [
    "# Computational Graph\n",
    "<hr style = \"border:2px solid black\" ></hr>"
   ]
  },
  {
   "cell_type": "markdown",
   "id": "cd920ba3",
   "metadata": {},
   "source": [
    "<div class=\"alert alert-info\">\n",
    "<font color=black>\n",
    "\n",
    "- PyTorch generates derivatives by building a backwards graph behind the scenes, while tensors and backwards functions are the graph’s nodes. \n",
    "- In a graph, PyTorch computes the derivative of a tensor depending on whether it is a **leaf** or not.\n",
    "- PyTorch will not evaluate a tensor’s derivative if its leaf attribute is set to `True`. \n",
    "\n",
    "\n",
    "- Three attributes can be seen here:\n",
    "    - `data`    attribute stores the tensor’s data\n",
    "    - `grad_fn` attribute tells about the node in the graph\n",
    "    - `.grad`   attribute holds the result of the derivative.\n",
    "\n",
    "</font>\n",
    "</div>"
   ]
  },
  {
   "cell_type": "code",
   "execution_count": 11,
   "id": "1735b0cb",
   "metadata": {
    "ExecuteTime": {
     "end_time": "2022-02-19T14:28:59.040070Z",
     "start_time": "2022-02-19T14:28:59.034222Z"
    }
   },
   "outputs": [
    {
     "name": "stdout",
     "output_type": "stream",
     "text": [
      "data attribute of the tensor: tensor(3.)\n",
      "grad attribute of the tensor:: tensor(18.)\n",
      "grad_fn attribute of the tensor:: None\n",
      "is_leaf attribute of the tensor:: True\n",
      "requires_grad attribute of the tensor:: True\n"
     ]
    }
   ],
   "source": [
    "print('data attribute of the tensor:',x.data)\n",
    "print('grad attribute of the tensor::',x.grad)\n",
    "print('grad_fn attribute of the tensor::',x.grad_fn)\n",
    "print(\"is_leaf attribute of the tensor::\",x.is_leaf)\n",
    "print(\"requires_grad attribute of the tensor::\",x.requires_grad)"
   ]
  },
  {
   "cell_type": "code",
   "execution_count": 12,
   "id": "8aeea26e",
   "metadata": {
    "ExecuteTime": {
     "end_time": "2022-02-19T14:29:25.194268Z",
     "start_time": "2022-02-19T14:29:25.188571Z"
    }
   },
   "outputs": [
    {
     "name": "stdout",
     "output_type": "stream",
     "text": [
      "data attribute of the tensor: tensor(27.)\n",
      "grad attribute of the tensor: None\n",
      "grad_fn attribute of the tensor: <MulBackward0 object at 0x7f99fff9d220>\n",
      "is_leaf attribute of the tensor: False\n",
      "requires_grad attribute of the tensor: True\n"
     ]
    },
    {
     "name": "stderr",
     "output_type": "stream",
     "text": [
      "/opt/anaconda3/envs/trainingAI/lib/python3.9/site-packages/torch/_tensor.py:1013: UserWarning: The .grad attribute of a Tensor that is not a leaf Tensor is being accessed. Its .grad attribute won't be populated during autograd.backward(). If you indeed want the .grad field to be populated for a non-leaf Tensor, use .retain_grad() on the non-leaf Tensor. If you access the non-leaf Tensor by mistake, make sure you access the leaf Tensor instead. See github.com/pytorch/pytorch/pull/30531 for more informations. (Triggered internally at  aten/src/ATen/core/TensorBody.h:417.)\n",
      "  return self._grad\n"
     ]
    }
   ],
   "source": [
    "print('data attribute of the tensor:',y.data)\n",
    "print('grad attribute of the tensor:',y.grad)\n",
    "print('grad_fn attribute of the tensor:',y.grad_fn)\n",
    "print(\"is_leaf attribute of the tensor:\",y.is_leaf)\n",
    "print(\"requires_grad attribute of the tensor:\",y.requires_grad)"
   ]
  },
  {
   "cell_type": "markdown",
   "id": "8166870f",
   "metadata": {},
   "source": [
    "# Example #1\n",
    "<hr style = \"border:2px solid black\" ></hr>"
   ]
  },
  {
   "cell_type": "markdown",
   "id": "07465416",
   "metadata": {},
   "source": [
    "<div class=\"alert alert-info\">\n",
    "<font color=black>\n",
    "\n",
    "- Patial derivatives of one function wrt many variables.\n",
    "\n",
    "</font>\n",
    "</div>"
   ]
  },
  {
   "cell_type": "code",
   "execution_count": 14,
   "id": "7e301875",
   "metadata": {
    "ExecuteTime": {
     "end_time": "2022-02-19T14:49:39.474911Z",
     "start_time": "2022-02-19T14:49:39.467258Z"
    }
   },
   "outputs": [
    {
     "name": "stdout",
     "output_type": "stream",
     "text": [
      "tensor(3., requires_grad=True)\n",
      "tensor(4., requires_grad=True)\n",
      "tensor(91., grad_fn=<AddBackward0>)\n",
      "Partial derivative with respect to u:  tensor(43.)\n",
      "Partial derivative with respect to u:  tensor(20.)\n"
     ]
    }
   ],
   "source": [
    "u = torch.tensor(3., requires_grad=True)\n",
    "v = torch.tensor(4., requires_grad=True)\n",
    "\n",
    "f = u**3 + v**2 + 4*u*v\n",
    "\n",
    "print(u)\n",
    "print(v)\n",
    "print(f)\n",
    "\n",
    "f.backward()\n",
    "print(\"Partial derivative with respect to u: \", u.grad)\n",
    "print(\"Partial derivative with respect to u: \", v.grad)"
   ]
  },
  {
   "cell_type": "markdown",
   "id": "f314b283",
   "metadata": {},
   "source": [
    "# Example #2\n",
    "<hr style = \"border:2px solid black\" ></hr>"
   ]
  },
  {
   "cell_type": "markdown",
   "id": "226ed81f",
   "metadata": {},
   "source": [
    "<div class=\"alert alert-info\">\n",
    "<font color=black>\n",
    "\n",
    "- What if we have a function with multiple values and we need to calculate the derivative with respect to its multiple values? \n",
    "- For this, we’ll make use of the sum attribute to (1) produce a scalar-valued function, and then (2) take the derivative.\n",
    "\n",
    "</font>\n",
    "</div>"
   ]
  },
  {
   "cell_type": "code",
   "execution_count": 15,
   "id": "f893e95b",
   "metadata": {
    "ExecuteTime": {
     "end_time": "2022-02-19T14:53:15.577273Z",
     "start_time": "2022-02-19T14:53:15.375503Z"
    }
   },
   "outputs": [
    {
     "data": {
      "image/png": "[encoded data removed]",
      "text/plain": [
       "<Figure size 432x288 with 1 Axes>"
      ]
     },
     "metadata": {
      "needs_background": "light"
     },
     "output_type": "display_data"
    }
   ],
   "source": [
    "# compute the derivative of the function with multiple values\n",
    "x = torch.linspace(-20, 20, 20, requires_grad = True)\n",
    "Y = x ** 2\n",
    "y = torch.sum(Y)\n",
    "y.backward()\n",
    "\n",
    "# ploting the function and derivative\n",
    "function_line, = plt.plot(x.detach().numpy(), Y.detach().numpy(), label = 'Function')\n",
    "function_line.set_color(\"red\")\n",
    "derivative_line, = plt.plot(x.detach().numpy(), x.grad.detach().numpy(), label = 'Derivative')\n",
    "derivative_line.set_color(\"green\")\n",
    "plt.xlabel('x')\n",
    "plt.legend()\n",
    "plt.show()"
   ]
  },
  {
   "cell_type": "markdown",
   "id": "ef6a37d3",
   "metadata": {},
   "source": [
    "# References\n",
    "<hr style = \"border:2px solid black\" ></hr>"
   ]
  },
  {
   "cell_type": "markdown",
   "id": "2d103ec1",
   "metadata": {},
   "source": [
    "<div class=\"alert alert-warning\">\n",
    "<font color=black>\n",
    "\n",
    "- https://machinelearningmastery.com/calculating-derivatives-in-pytorch/\n",
    "\n",
    "</font>\n",
    "</div>"
   ]
  },
  {
   "cell_type": "code",
   "execution_count": null,
   "id": "f13a1fbf",
   "metadata": {},
   "outputs": [],
   "source": []
  }
 ],
 "metadata": {
  "kernelspec": {
   "display_name": "trainingAI",
   "language": "python",
   "name": "trainingai"
  },
  "language_info": {
   "codemirror_mode": {
    "name": "ipython",
    "version": 3
   },
   "file_extension": ".py",
   "mimetype": "text/x-python",
   "name": "python",
   "nbconvert_exporter": "python",
   "pygments_lexer": "ipython3",
   "version": "3.9.7"
  },
  "toc": {
   "base_numbering": 1,
   "nav_menu": {},
   "number_sections": true,
   "sideBar": true,
   "skip_h1_title": false,
   "title_cell": "Table of Contents",
   "title_sidebar": "Contents",
   "toc_cell": false,
   "toc_position": {},
   "toc_section_display": true,
   "toc_window_display": true
  },
  "varInspector": {
   "cols": {
    "lenName": 16,
    "lenType": 16,
    "lenVar": 40
   },
   "kernels_config": {
    "python": {
     "delete_cmd_postfix": "",
     "delete_cmd_prefix": "del ",
     "library": "var_list.py",
     "varRefreshCmd": "print(var_dic_list())"
    },
    "r": {
     "delete_cmd_postfix": ") ",
     "delete_cmd_prefix": "rm(",
     "library": "var_list.r",
     "varRefreshCmd": "cat(var_dic_list()) "
    }
   },
   "types_to_exclude": [
    "module",
    "function",
    "builtin_function_or_method",
    "instance",
    "_Feature"
   ],
   "window_display": false
  }
 },
 "nbformat": 4,
 "nbformat_minor": 5
}
