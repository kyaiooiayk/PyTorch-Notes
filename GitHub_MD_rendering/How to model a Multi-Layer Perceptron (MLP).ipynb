{
 "cells": [
  {
   "cell_type": "markdown",
   "metadata": {},
   "source": [
    "# Introduction"
   ]
  },
  {
   "cell_type": "markdown",
   "metadata": {},
   "source": [
    "\n",
    "**What?** How to model a Multi-Layer Perceptron (MLP)\n",
    "\n",
""   ]
  },
  {
   "cell_type": "markdown",
   "metadata": {},
   "source": [
    "# Import modules"
   ]
  },
  {
   "cell_type": "code",
   "execution_count": 1,
   "metadata": {},
   "outputs": [],
   "source": [
    "import torch.nn as nn\n",
    "import torch.nn.functional as F"
   ]
  },
  {
   "cell_type": "markdown",
   "metadata": {},
   "source": [
    "# Modelling a MLP"
   ]
  },
  {
   "cell_type": "code",
   "execution_count": null,
   "metadata": {},
   "outputs": [],
   "source": [
    "\"\"\"\n",
    "The multilayer perceptron structurally extends the simpler perceptron by grouping many perceptrons in a \n",
    "single layer and stacking multiple layers together. \n",
    "\n",
    "The advantages of Multi-layer Perceptron are:\n",
    "Capability to learn non-linear models.\n",
    "Capability to learn models in real-time (on-line learning) using partial fit.\n",
    "\n",
    "The disadvantages of Multi-layer Perceptron (MLP) include:\n",
    "MLP with hidden layers have a non-convex loss function.\n",
    "MLP requires tuning a number of hyperparameters (No. of hidden neurons, layers, and iterations).\n",
    "MLP is sensitive to feature scaling.\n",
    "\"\"\""
   ]
  },
  {
   "attachments": {
    "image.png": {
     "image/png": "[encoded data removed]"
    }
   },
   "cell_type": "markdown",
   "metadata": {},
   "source": [
    "![image.png](attachment:image.png)"
   ]
  },
  {
   "cell_type": "code",
   "execution_count": 4,
   "metadata": {},
   "outputs": [],
   "source": [
    "class MultilayerPerceptron(nn.Module):\n",
    "    def __init__(self, input_dim, hidden_dim, output_dim):\n",
    "        \"\"\" Args:\n",
    "        input_dim (int): the size of the input vectors\n",
    "        hidden_dim (int): the output size of the first Linear layer output_dim (int): the output size of the second Linear layer\n",
    "        \"\"\"\n",
    "        super(MultilayerPerceptron, self).__init__() \n",
    "        self.fc1 = nn.Linear(input_dim, hidden_dim) \n",
    "        self.fc2 = nn.Linear(hidden_dim, output_dim)\n",
    "    \n",
    "    def forward(self, x_in, apply_softmax=False):\n",
    "        \"\"\"The forward pass of the MLP\n",
    "        Args:\n",
    "        x_in (torch.Tensor): an input data tensor\n",
    "        x_in.shape should be (batch, input_dim) apply_softmax (bool): a flag for the softmax activation\n",
    "        should be false if used with the cross-entropy losses Returns:\n",
    "        the resulting tensor. tensor.shape should be (batch, output_dim) \"\"\"\n",
    "        intermediate = F.relu(self.fc1(x_in)) \n",
    "        output = self.fc2(intermediate)\n",
    "        if apply_softmax:\n",
    "            output = F.softmax(output, dim=1)\n",
    "        return output        "
   ]
  },
  {
   "cell_type": "code",
   "execution_count": null,
   "metadata": {},
   "outputs": [],
   "source": [
    "\"\"\"\n",
    "Due to the generality of the MLP implementation, we can model inputs of any size. To demonstrate, we use an \n",
    "input dimension of size 3, an output dimension of size 4, and a hidden dimension of size 100. Notice how in \n",
    "the output of the print statement, the number of units in each layer nicely line up to produce an output of \n",
    "dimension 4 for an input of dimension 3.\n",
    "\"\"\""
   ]
  },
  {
   "cell_type": "code",
   "execution_count": 7,
   "metadata": {},
   "outputs": [],
   "source": [
    "batch_size = 2 # number of samples input at once \n",
    "input_dim = 3\n",
    "hidden_dim = 100\n",
    "output_dim = 4"
   ]
  },
  {
   "cell_type": "code",
   "execution_count": 8,
   "metadata": {},
   "outputs": [
    {
     "name": "stdout",
     "output_type": "stream",
     "text": [
      "MultilayerPerceptron(\n",
      "  (fc1): Linear(in_features=3, out_features=100, bias=True)\n",
      "  (fc2): Linear(in_features=100, out_features=4, bias=True)\n",
      ")\n"
     ]
    }
   ],
   "source": [
    "# Initialize model\n",
    "mlp = MultilayerPerceptron(input_dim, hidden_dim, output_dim) \n",
    "print(mlp)"
   ]
  },
  {
   "cell_type": "markdown",
   "metadata": {},
   "source": [
    "# References"
   ]
  },
  {
   "cell_type": "markdown",
   "metadata": {},
   "source": [
    "\n",
    "- Rao, Delip, and Brian McMahan. Natural language processing with PyTorch: build intelligent language applications using deep learning. \" O'Reilly Media, Inc.\", 2019.\n",
    "- https://github.com/joosthub/PyTorchNLPBook\n",
    "\n",
""   ]
  },
  {
   "cell_type": "code",
   "execution_count": null,
   "metadata": {},
   "outputs": [],
   "source": []
  }
 ],
 "metadata": {
  "kernelspec": {
   "display_name": "trainingAI",
   "language": "python",
   "name": "trainingai"
  },
  "language_info": {
   "codemirror_mode": {
    "name": "ipython",
    "version": 3
   },
   "file_extension": ".py",
   "mimetype": "text/x-python",
   "name": "python",
   "nbconvert_exporter": "python",
   "pygments_lexer": "ipython3",
   "version": "3.8.5"
  }
 },
 "nbformat": 4,
 "nbformat_minor": 2
}
